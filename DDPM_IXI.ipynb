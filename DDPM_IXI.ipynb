{
 "cells": [
  {
   "cell_type": "markdown",
   "id": "e61c05d0-b3a7-4f3e-a483-ddf2d5e0875d",
   "metadata": {},
   "source": [
    "## Load Dataset"
   ]
  },
  {
   "cell_type": "code",
   "execution_count": 19,
   "id": "8802bbea-da42-4444-b4b6-1bfd0cbf3a31",
   "metadata": {},
   "outputs": [
    {
     "name": "stdout",
     "output_type": "stream",
     "text": [
      "Train set size: 420.\n",
      "Validation set size: 40.\n",
      "Image of size 64, with 1 channel(s).\n"
     ]
    }
   ],
   "source": [
    "from image_datasets.IXIdataset import IXIDataset\n",
    "from sklearn.model_selection import train_test_split\n",
    "\n",
    "root = \"/lustre/fswork/projects/rech/krk/usy14zi/datasets/IXI-dataset/size64/\"\n",
    "dataset = IXIDataset(root, mode=\"train\")\n",
    "\n",
    "train_set, val_set = train_test_split(dataset, train_size=420, test_size=40)\n",
    "\n",
    "channels, image_size, _ = dataset[0]['T1'].shape\n",
    "print(f\"Train set size: {len(train_set)}.\")\n",
    "print(f\"Validation set size: {len(val_set)}.\")\n",
    "print(f\"Image of size {image_size}, with {channels} channel(s).\")"
   ]
  },
  {
   "cell_type": "code",
   "execution_count": 20,
   "id": "347069e6-55b4-4baf-80b1-35295a9f845c",
   "metadata": {},
   "outputs": [],
   "source": [
    "from torch.utils.data import DataLoader\n",
    "\n",
    "batch_size = 20\n",
    "\n",
    "train_loader = DataLoader(\n",
    "    train_set,\n",
    "    batch_size=batch_size,\n",
    "    shuffle=False,\n",
    ")\n",
    "val_loader = DataLoader(\n",
    "    val_set,\n",
    "    batch_size=batch_size,\n",
    "    shuffle=False,\n",
    ")"
   ]
  },
  {
   "cell_type": "markdown",
   "id": "40670592-c1f6-477c-aac8-122a87e86648",
   "metadata": {},
   "source": [
    "## Initialize denoising model"
   ]
  },
  {
   "cell_type": "code",
   "execution_count": 21,
   "id": "e4ffce80-df86-4579-86aa-af9156156d30",
   "metadata": {},
   "outputs": [
    {
     "data": {
      "text/plain": [
       "=====================================================================================\n",
       "Layer (type:depth-idx)                                       Param #\n",
       "=====================================================================================\n",
       "Unet                                                         --\n",
       "├─Conv2d: 1-1                                                128\n",
       "├─Sequential: 1-2                                            --\n",
       "│    └─SinusoidalPositionEmbeddings: 2-1                     --\n",
       "│    └─Linear: 2-2                                           16,640\n",
       "│    └─GELU: 2-3                                             --\n",
       "│    └─Linear: 2-4                                           65,792\n",
       "├─ModuleList: 1-3                                            --\n",
       "│    └─ModuleList: 2-5                                       --\n",
       "│    │    └─ResnetBlock: 3-1                                 107,008\n",
       "│    │    └─ResnetBlock: 3-2                                 107,008\n",
       "│    │    └─Residual: 3-3                                    33,088\n",
       "│    │    └─Sequential: 3-4                                  16,448\n",
       "│    └─ModuleList: 2-6                                       --\n",
       "│    │    └─ResnetBlock: 3-5                                 107,008\n",
       "│    │    └─ResnetBlock: 3-6                                 107,008\n",
       "│    │    └─Residual: 3-7                                    33,088\n",
       "│    │    └─Sequential: 3-8                                  32,896\n",
       "│    └─ModuleList: 2-7                                       --\n",
       "│    │    └─ResnetBlock: 3-9                                 361,472\n",
       "│    │    └─ResnetBlock: 3-10                                361,472\n",
       "│    │    └─Residual: 3-11                                   66,176\n",
       "│    │    └─Conv2d: 3-12                                     295,168\n",
       "├─ModuleList: 1-4                                            --\n",
       "│    └─ModuleList: 2-8                                       --\n",
       "│    │    └─ResnetBlock: 3-13                                1,706,240\n",
       "│    │    └─ResnetBlock: 3-14                                1,706,240\n",
       "│    │    └─Residual: 3-15                                   132,352\n",
       "│    │    └─Sequential: 3-16                                 295,040\n",
       "│    └─ModuleList: 2-9                                       --\n",
       "│    │    └─ResnetBlock: 3-17                                459,904\n",
       "│    │    └─ResnetBlock: 3-18                                459,904\n",
       "│    │    └─Residual: 3-19                                   66,176\n",
       "│    │    └─Sequential: 3-20                                 73,792\n",
       "│    └─ModuleList: 2-10                                      --\n",
       "│    │    └─ResnetBlock: 3-21                                152,128\n",
       "│    │    └─ResnetBlock: 3-22                                152,128\n",
       "│    │    └─Residual: 3-23                                   33,088\n",
       "│    │    └─Conv2d: 3-24                                     36,928\n",
       "├─ResnetBlock: 1-5                                           --\n",
       "│    └─Sequential: 2-11                                      --\n",
       "│    │    └─SiLU: 3-25                                       --\n",
       "│    │    └─Linear: 3-26                                     131,584\n",
       "│    └─Block: 2-12                                           --\n",
       "│    │    └─WeightStandardizedConv2d: 3-27                   590,080\n",
       "│    │    └─GroupNorm: 3-28                                  512\n",
       "│    │    └─SiLU: 3-29                                       --\n",
       "│    └─Block: 2-13                                           --\n",
       "│    │    └─WeightStandardizedConv2d: 3-30                   590,080\n",
       "│    │    └─GroupNorm: 3-31                                  512\n",
       "│    │    └─SiLU: 3-32                                       --\n",
       "│    └─Identity: 2-14                                        --\n",
       "├─Residual: 1-6                                              --\n",
       "│    └─PreNorm: 2-15                                         --\n",
       "│    │    └─Attention: 3-33                                  131,328\n",
       "│    │    └─GroupNorm: 3-34                                  512\n",
       "├─ResnetBlock: 1-7                                           --\n",
       "│    └─Sequential: 2-16                                      --\n",
       "│    │    └─SiLU: 3-35                                       --\n",
       "│    │    └─Linear: 3-36                                     131,584\n",
       "│    └─Block: 2-17                                           --\n",
       "│    │    └─WeightStandardizedConv2d: 3-37                   590,080\n",
       "│    │    └─GroupNorm: 3-38                                  512\n",
       "│    │    └─SiLU: 3-39                                       --\n",
       "│    └─Block: 2-18                                           --\n",
       "│    │    └─WeightStandardizedConv2d: 3-40                   590,080\n",
       "│    │    └─GroupNorm: 3-41                                  512\n",
       "│    │    └─SiLU: 3-42                                       --\n",
       "│    └─Identity: 2-19                                        --\n",
       "├─ResnetBlock: 1-8                                           --\n",
       "│    └─Sequential: 2-20                                      --\n",
       "│    │    └─SiLU: 3-43                                       --\n",
       "│    │    └─Linear: 3-44                                     32,896\n",
       "│    └─Block: 2-21                                           --\n",
       "│    │    └─WeightStandardizedConv2d: 3-45                   73,792\n",
       "│    │    └─GroupNorm: 3-46                                  128\n",
       "│    │    └─SiLU: 3-47                                       --\n",
       "│    └─Block: 2-22                                           --\n",
       "│    │    └─WeightStandardizedConv2d: 3-48                   36,928\n",
       "│    │    └─GroupNorm: 3-49                                  128\n",
       "│    │    └─SiLU: 3-50                                       --\n",
       "│    └─Conv2d: 2-23                                          8,256\n",
       "├─Conv2d: 1-9                                                65\n",
       "=====================================================================================\n",
       "Total params: 9,893,889\n",
       "Trainable params: 9,893,889\n",
       "Non-trainable params: 0\n",
       "====================================================================================="
      ]
     },
     "execution_count": 21,
     "metadata": {},
     "output_type": "execute_result"
    }
   ],
   "source": [
    "import torch \n",
    "from model.unet import Unet\n",
    "from torchinfo import summary\n",
    "\n",
    "device = \"cuda\" if torch.cuda.is_available() else \"cpu\"\n",
    "\n",
    "model = Unet(\n",
    "    dim=image_size,\n",
    "    channels=channels,\n",
    "    dim_mults=(1, 2, 4,)\n",
    ")\n",
    "model.to(device)\n",
    "\n",
    "summary(model)\n",
    "#print(sum(p.numel() for p in model.parameters() if p.requires_grad))"
   ]
  },
  {
   "cell_type": "markdown",
   "id": "35a45cc2-fc9b-4b3b-8a20-39565e52c5b2",
   "metadata": {},
   "source": [
    "## Initialize diffusion class"
   ]
  },
  {
   "cell_type": "code",
   "execution_count": 22,
   "id": "1a0c56b6-16ce-412b-b134-b7f4c733751a",
   "metadata": {},
   "outputs": [],
   "source": [
    "from diffusion.time_scheduler import quadratic_beta_schedule\n",
    "\n",
    "timesteps = 600\n",
    "betas = quadratic_beta_schedule(timesteps, beta_start=0.00001, beta_end=0.01)"
   ]
  },
  {
   "cell_type": "code",
   "execution_count": 23,
   "id": "034ded8e-2ed6-49b9-af76-18491445316d",
   "metadata": {},
   "outputs": [],
   "source": [
    "from diffusion.diffusion import DiffusionModel\n",
    "\n",
    "ddpm = DiffusionModel(model, timesteps, betas, device, loss_type='huber')"
   ]
  },
  {
   "cell_type": "markdown",
   "id": "a33ca67c-7bb7-4967-9895-ac00a457ac1b",
   "metadata": {},
   "source": [
    "## Train the model"
   ]
  },
  {
   "cell_type": "code",
   "execution_count": 24,
   "id": "4f5fea5f-c3b3-4ea3-ac81-4ea8cfae5d04",
   "metadata": {},
   "outputs": [],
   "source": [
    "from torch.optim import Adam\n",
    "\n",
    "epochs = 100\n",
    "optimizer = Adam(model.parameters(), lr=3e-4)"
   ]
  },
  {
   "cell_type": "code",
   "execution_count": 25,
   "id": "173af893-676e-4a9c-b13c-8c872c199815",
   "metadata": {},
   "outputs": [
    {
     "name": "stderr",
     "output_type": "stream",
     "text": [
      "Epoch 0: 100%|##########| 21/21 [00:01<00:00, 11.89it/s]\n"
     ]
    },
    {
     "name": "stdout",
     "output_type": "stream",
     "text": [
      "Train Loss: 0.6971231017793927\n",
      "Val Loss: 0.1317921318113804\n"
     ]
    },
    {
     "name": "stderr",
     "output_type": "stream",
     "text": [
      "Epoch 1: 100%|##########| 21/21 [00:01<00:00, 11.95it/s]\n"
     ]
    },
    {
     "name": "stdout",
     "output_type": "stream",
     "text": [
      "Train Loss: 0.35499619089421774\n",
      "Val Loss: 0.1480269841849804\n"
     ]
    },
    {
     "name": "stderr",
     "output_type": "stream",
     "text": [
      "Epoch 2: 100%|##########| 21/21 [00:01<00:00, 12.14it/s]\n"
     ]
    },
    {
     "name": "stdout",
     "output_type": "stream",
     "text": [
      "Train Loss: 0.34571816878659384\n",
      "Val Loss: 0.13954897969961166\n"
     ]
    },
    {
     "name": "stderr",
     "output_type": "stream",
     "text": [
      "Epoch 3: 100%|##########| 21/21 [00:01<00:00, 12.19it/s]\n"
     ]
    },
    {
     "name": "stdout",
     "output_type": "stream",
     "text": [
      "Train Loss: 0.2722770706528709\n",
      "Val Loss: 0.09145768731832504\n"
     ]
    },
    {
     "name": "stderr",
     "output_type": "stream",
     "text": [
      "Epoch 4: 100%|##########| 21/21 [00:01<00:00, 11.95it/s]\n"
     ]
    },
    {
     "name": "stdout",
     "output_type": "stream",
     "text": [
      "Train Loss: 0.19515135139226913\n",
      "Val Loss: 0.08284801617264748\n"
     ]
    },
    {
     "name": "stderr",
     "output_type": "stream",
     "text": [
      "Epoch 5: 100%|##########| 21/21 [00:01<00:00, 11.95it/s]\n"
     ]
    },
    {
     "name": "stdout",
     "output_type": "stream",
     "text": [
      "Train Loss: 0.19889150666339056\n",
      "Val Loss: 0.08269596472382545\n"
     ]
    },
    {
     "name": "stderr",
     "output_type": "stream",
     "text": [
      "Epoch 6: 100%|##########| 21/21 [00:01<00:00, 12.18it/s]\n"
     ]
    },
    {
     "name": "stdout",
     "output_type": "stream",
     "text": [
      "Train Loss: 0.16551030852964946\n",
      "Val Loss: 0.08661454916000366\n"
     ]
    },
    {
     "name": "stderr",
     "output_type": "stream",
     "text": [
      "Epoch 7: 100%|##########| 21/21 [00:01<00:00, 11.81it/s]\n"
     ]
    },
    {
     "name": "stdout",
     "output_type": "stream",
     "text": [
      "Train Loss: 0.15208669006824493\n",
      "Val Loss: 0.06921648606657982\n"
     ]
    },
    {
     "name": "stderr",
     "output_type": "stream",
     "text": [
      "Epoch 8: 100%|##########| 21/21 [00:01<00:00, 12.14it/s]\n"
     ]
    },
    {
     "name": "stdout",
     "output_type": "stream",
     "text": [
      "Train Loss: 0.15647707453795842\n",
      "Val Loss: 0.0694864634424448\n"
     ]
    },
    {
     "name": "stderr",
     "output_type": "stream",
     "text": [
      "Epoch 9: 100%|##########| 21/21 [00:01<00:00, 12.24it/s]\n"
     ]
    },
    {
     "name": "stdout",
     "output_type": "stream",
     "text": [
      "Train Loss: 0.14835884741374425\n",
      "Val Loss: 0.04299025423824787\n"
     ]
    },
    {
     "name": "stderr",
     "output_type": "stream",
     "text": [
      "Epoch 10: 100%|##########| 21/21 [00:01<00:00, 11.92it/s]\n"
     ]
    },
    {
     "name": "stdout",
     "output_type": "stream",
     "text": [
      "Train Loss: 0.12255025921123368\n",
      "Val Loss: 0.05164690129458904\n"
     ]
    },
    {
     "name": "stderr",
     "output_type": "stream",
     "text": [
      "Epoch 11: 100%|##########| 21/21 [00:01<00:00, 11.00it/s]\n"
     ]
    },
    {
     "name": "stdout",
     "output_type": "stream",
     "text": [
      "Train Loss: 0.1256715790146873\n",
      "Val Loss: 0.048922304064035416\n"
     ]
    },
    {
     "name": "stderr",
     "output_type": "stream",
     "text": [
      "Epoch 12: 100%|##########| 21/21 [00:01<00:00, 12.22it/s]\n"
     ]
    },
    {
     "name": "stdout",
     "output_type": "stream",
     "text": [
      "Train Loss: 0.14137455891995204\n",
      "Val Loss: 0.052425703033804893\n"
     ]
    },
    {
     "name": "stderr",
     "output_type": "stream",
     "text": [
      "Epoch 13: 100%|##########| 21/21 [00:01<00:00, 11.80it/s]\n"
     ]
    },
    {
     "name": "stdout",
     "output_type": "stream",
     "text": [
      "Train Loss: 0.12563537841751463\n",
      "Val Loss: 0.07712236046791077\n"
     ]
    },
    {
     "name": "stderr",
     "output_type": "stream",
     "text": [
      "Epoch 14: 100%|##########| 21/21 [00:01<00:00, 12.24it/s]\n"
     ]
    },
    {
     "name": "stdout",
     "output_type": "stream",
     "text": [
      "Train Loss: 0.12229963995161511\n",
      "Val Loss: 0.060614777728915215\n"
     ]
    },
    {
     "name": "stderr",
     "output_type": "stream",
     "text": [
      "Epoch 15: 100%|##########| 21/21 [00:01<00:00, 12.18it/s]\n"
     ]
    },
    {
     "name": "stdout",
     "output_type": "stream",
     "text": [
      "Train Loss: 0.12544991217908405\n",
      "Val Loss: 0.0662740170955658\n"
     ]
    },
    {
     "name": "stderr",
     "output_type": "stream",
     "text": [
      "Epoch 16: 100%|##########| 21/21 [00:01<00:00, 11.82it/s]\n"
     ]
    },
    {
     "name": "stdout",
     "output_type": "stream",
     "text": [
      "Train Loss: 0.11158035358502752\n",
      "Val Loss: 0.05366981402039528\n"
     ]
    },
    {
     "name": "stderr",
     "output_type": "stream",
     "text": [
      "Epoch 17: 100%|##########| 21/21 [00:01<00:00, 12.23it/s]\n"
     ]
    },
    {
     "name": "stdout",
     "output_type": "stream",
     "text": [
      "Train Loss: 0.11340940495332082\n",
      "Val Loss: 0.053645988926291466\n"
     ]
    },
    {
     "name": "stderr",
     "output_type": "stream",
     "text": [
      "Epoch 18: 100%|##########| 21/21 [00:01<00:00, 12.23it/s]\n"
     ]
    },
    {
     "name": "stdout",
     "output_type": "stream",
     "text": [
      "Train Loss: 0.11838404834270477\n",
      "Val Loss: 0.051670217886567116\n"
     ]
    },
    {
     "name": "stderr",
     "output_type": "stream",
     "text": [
      "Epoch 19: 100%|##########| 21/21 [00:01<00:00, 11.86it/s]\n"
     ]
    },
    {
     "name": "stdout",
     "output_type": "stream",
     "text": [
      "Train Loss: 0.10739173988501231\n",
      "Val Loss: 0.054939014837145805\n"
     ]
    },
    {
     "name": "stderr",
     "output_type": "stream",
     "text": [
      "Epoch 20: 100%|##########| 21/21 [00:01<00:00, 12.22it/s]\n"
     ]
    },
    {
     "name": "stdout",
     "output_type": "stream",
     "text": [
      "Train Loss: 0.10167949841845603\n",
      "Val Loss: 0.06267513334751129\n"
     ]
    },
    {
     "name": "stderr",
     "output_type": "stream",
     "text": [
      "Epoch 21: 100%|##########| 21/21 [00:01<00:00, 12.20it/s]\n"
     ]
    },
    {
     "name": "stdout",
     "output_type": "stream",
     "text": [
      "Train Loss: 0.09628586488820258\n",
      "Val Loss: 0.065092071890831\n"
     ]
    },
    {
     "name": "stderr",
     "output_type": "stream",
     "text": [
      "Epoch 22: 100%|##########| 21/21 [00:01<00:00, 11.82it/s]\n"
     ]
    },
    {
     "name": "stdout",
     "output_type": "stream",
     "text": [
      "Train Loss: 0.10371958038636617\n",
      "Val Loss: 0.05203462950885296\n"
     ]
    },
    {
     "name": "stderr",
     "output_type": "stream",
     "text": [
      "Epoch 23: 100%|##########| 21/21 [00:01<00:00, 12.23it/s]\n"
     ]
    },
    {
     "name": "stdout",
     "output_type": "stream",
     "text": [
      "Train Loss: 0.09211189370779764\n",
      "Val Loss: 0.04315166175365448\n"
     ]
    },
    {
     "name": "stderr",
     "output_type": "stream",
     "text": [
      "Epoch 24: 100%|##########| 21/21 [00:01<00:00, 12.23it/s]\n"
     ]
    },
    {
     "name": "stdout",
     "output_type": "stream",
     "text": [
      "Train Loss: 0.09519315599685624\n",
      "Val Loss: 0.05015348643064499\n"
     ]
    },
    {
     "name": "stderr",
     "output_type": "stream",
     "text": [
      "Epoch 25: 100%|##########| 21/21 [00:01<00:00, 11.85it/s]\n"
     ]
    },
    {
     "name": "stdout",
     "output_type": "stream",
     "text": [
      "Train Loss: 0.09550549941403526\n",
      "Val Loss: 0.040613044053316116\n"
     ]
    },
    {
     "name": "stderr",
     "output_type": "stream",
     "text": [
      "Epoch 26: 100%|##########| 21/21 [00:01<00:00, 12.21it/s]\n"
     ]
    },
    {
     "name": "stdout",
     "output_type": "stream",
     "text": [
      "Train Loss: 0.09680423087307385\n",
      "Val Loss: 0.03782351687550545\n"
     ]
    },
    {
     "name": "stderr",
     "output_type": "stream",
     "text": [
      "Epoch 27: 100%|##########| 21/21 [00:01<00:00, 12.13it/s]\n"
     ]
    },
    {
     "name": "stdout",
     "output_type": "stream",
     "text": [
      "Train Loss: 0.09794161326828457\n",
      "Val Loss: 0.04300895892083645\n"
     ]
    },
    {
     "name": "stderr",
     "output_type": "stream",
     "text": [
      "Epoch 28: 100%|##########| 21/21 [00:01<00:00, 11.92it/s]\n"
     ]
    },
    {
     "name": "stdout",
     "output_type": "stream",
     "text": [
      "Train Loss: 0.08398889572847457\n",
      "Val Loss: 0.05356230400502682\n"
     ]
    },
    {
     "name": "stderr",
     "output_type": "stream",
     "text": [
      "Epoch 29: 100%|##########| 21/21 [00:01<00:00, 12.23it/s]\n"
     ]
    },
    {
     "name": "stdout",
     "output_type": "stream",
     "text": [
      "Train Loss: 0.09515329113318807\n",
      "Val Loss: 0.045212604105472565\n"
     ]
    },
    {
     "name": "stderr",
     "output_type": "stream",
     "text": [
      "Epoch 30: 100%|##########| 21/21 [00:01<00:00, 12.14it/s]\n"
     ]
    },
    {
     "name": "stdout",
     "output_type": "stream",
     "text": [
      "Train Loss: 0.1014479799639611\n",
      "Val Loss: 0.05517022870481014\n"
     ]
    },
    {
     "name": "stderr",
     "output_type": "stream",
     "text": [
      "Epoch 31: 100%|##########| 21/21 [00:01<00:00, 11.96it/s]\n"
     ]
    },
    {
     "name": "stdout",
     "output_type": "stream",
     "text": [
      "Train Loss: 0.09593875315927324\n",
      "Val Loss: 0.044246415607631207\n"
     ]
    },
    {
     "name": "stderr",
     "output_type": "stream",
     "text": [
      "Epoch 32: 100%|##########| 21/21 [00:01<00:00, 12.18it/s]\n"
     ]
    },
    {
     "name": "stdout",
     "output_type": "stream",
     "text": [
      "Train Loss: 0.09485612117818423\n",
      "Val Loss: 0.030900519341230392\n"
     ]
    },
    {
     "name": "stderr",
     "output_type": "stream",
     "text": [
      "Epoch 33: 100%|##########| 21/21 [00:01<00:00, 12.06it/s]\n"
     ]
    },
    {
     "name": "stdout",
     "output_type": "stream",
     "text": [
      "Train Loss: 0.09750051672259967\n",
      "Val Loss: 0.03949868865311146\n"
     ]
    },
    {
     "name": "stderr",
     "output_type": "stream",
     "text": [
      "Epoch 34: 100%|##########| 21/21 [00:01<00:00, 11.94it/s]\n"
     ]
    },
    {
     "name": "stdout",
     "output_type": "stream",
     "text": [
      "Train Loss: 0.08419579994820413\n",
      "Val Loss: 0.04412947781383991\n"
     ]
    },
    {
     "name": "stderr",
     "output_type": "stream",
     "text": [
      "Epoch 35: 100%|##########| 21/21 [00:01<00:00, 12.22it/s]\n"
     ]
    },
    {
     "name": "stdout",
     "output_type": "stream",
     "text": [
      "Train Loss: 0.08957622572779655\n",
      "Val Loss: 0.032156466506421566\n"
     ]
    },
    {
     "name": "stderr",
     "output_type": "stream",
     "text": [
      "Epoch 36: 100%|##########| 21/21 [00:01<00:00, 12.15it/s]\n"
     ]
    },
    {
     "name": "stdout",
     "output_type": "stream",
     "text": [
      "Train Loss: 0.08914856665900775\n",
      "Val Loss: 0.04902965761721134\n"
     ]
    },
    {
     "name": "stderr",
     "output_type": "stream",
     "text": [
      "Epoch 37: 100%|##########| 21/21 [00:01<00:00, 11.56it/s]\n"
     ]
    },
    {
     "name": "stdout",
     "output_type": "stream",
     "text": [
      "Train Loss: 0.08884530000033833\n",
      "Val Loss: 0.04220352694392204\n"
     ]
    },
    {
     "name": "stderr",
     "output_type": "stream",
     "text": [
      "Epoch 38: 100%|##########| 21/21 [00:01<00:00, 12.16it/s]\n"
     ]
    },
    {
     "name": "stdout",
     "output_type": "stream",
     "text": [
      "Train Loss: 0.09361296767989795\n",
      "Val Loss: 0.037506917491555214\n"
     ]
    },
    {
     "name": "stderr",
     "output_type": "stream",
     "text": [
      "Epoch 39: 100%|##########| 21/21 [00:01<00:00, 12.19it/s]\n"
     ]
    },
    {
     "name": "stdout",
     "output_type": "stream",
     "text": [
      "Train Loss: 0.09683333798533394\n",
      "Val Loss: 0.041747115552425385\n"
     ]
    },
    {
     "name": "stderr",
     "output_type": "stream",
     "text": [
      "Epoch 40: 100%|##########| 21/21 [00:01<00:00, 11.97it/s]\n"
     ]
    },
    {
     "name": "stdout",
     "output_type": "stream",
     "text": [
      "Train Loss: 0.08502795760120664\n",
      "Val Loss: 0.06600109674036503\n"
     ]
    },
    {
     "name": "stderr",
     "output_type": "stream",
     "text": [
      "Epoch 41: 100%|##########| 21/21 [00:01<00:00, 12.17it/s]\n"
     ]
    },
    {
     "name": "stdout",
     "output_type": "stream",
     "text": [
      "Train Loss: 0.08873055041545913\n",
      "Val Loss: 0.041396286338567734\n"
     ]
    },
    {
     "name": "stderr",
     "output_type": "stream",
     "text": [
      "Epoch 42: 100%|##########| 21/21 [00:01<00:00, 12.22it/s]\n"
     ]
    },
    {
     "name": "stdout",
     "output_type": "stream",
     "text": [
      "Train Loss: 0.07847122014278457\n",
      "Val Loss: 0.040191467851400375\n"
     ]
    },
    {
     "name": "stderr",
     "output_type": "stream",
     "text": [
      "Epoch 43: 100%|##########| 21/21 [00:01<00:00, 11.92it/s]\n"
     ]
    },
    {
     "name": "stdout",
     "output_type": "stream",
     "text": [
      "Train Loss: 0.08460577807965733\n",
      "Val Loss: 0.034425195306539536\n"
     ]
    },
    {
     "name": "stderr",
     "output_type": "stream",
     "text": [
      "Epoch 44: 100%|##########| 21/21 [00:01<00:00, 12.05it/s]\n"
     ]
    },
    {
     "name": "stdout",
     "output_type": "stream",
     "text": [
      "Train Loss: 0.10035212302491778\n",
      "Val Loss: 0.04344436340034008\n"
     ]
    },
    {
     "name": "stderr",
     "output_type": "stream",
     "text": [
      "Epoch 45: 100%|##########| 21/21 [00:01<00:00, 11.29it/s]\n"
     ]
    },
    {
     "name": "stdout",
     "output_type": "stream",
     "text": [
      "Train Loss: 0.08903979563287326\n",
      "Val Loss: 0.03501690737903118\n"
     ]
    },
    {
     "name": "stderr",
     "output_type": "stream",
     "text": [
      "Epoch 46: 100%|##########| 21/21 [00:01<00:00, 11.97it/s]\n"
     ]
    },
    {
     "name": "stdout",
     "output_type": "stream",
     "text": [
      "Train Loss: 0.08233450832111495\n",
      "Val Loss: 0.03481113910675049\n"
     ]
    },
    {
     "name": "stderr",
     "output_type": "stream",
     "text": [
      "Epoch 47: 100%|##########| 21/21 [00:01<00:00, 12.10it/s]\n"
     ]
    },
    {
     "name": "stdout",
     "output_type": "stream",
     "text": [
      "Train Loss: 0.0852660776249\n",
      "Val Loss: 0.03888136800378561\n"
     ]
    },
    {
     "name": "stderr",
     "output_type": "stream",
     "text": [
      "Epoch 48: 100%|##########| 21/21 [00:01<00:00, 12.21it/s]\n"
     ]
    },
    {
     "name": "stdout",
     "output_type": "stream",
     "text": [
      "Train Loss: 0.08743186844956308\n",
      "Val Loss: 0.03225573245435953\n"
     ]
    },
    {
     "name": "stderr",
     "output_type": "stream",
     "text": [
      "Epoch 49: 100%|##########| 21/21 [00:01<00:00, 12.02it/s]\n"
     ]
    },
    {
     "name": "stdout",
     "output_type": "stream",
     "text": [
      "Train Loss: 0.08727948651427314\n",
      "Val Loss: 0.0400348212569952\n"
     ]
    },
    {
     "name": "stderr",
     "output_type": "stream",
     "text": [
      "Epoch 50: 100%|##########| 21/21 [00:01<00:00, 12.08it/s]\n"
     ]
    },
    {
     "name": "stdout",
     "output_type": "stream",
     "text": [
      "Train Loss: 0.08127404891309284\n",
      "Val Loss: 0.041942108422517776\n"
     ]
    },
    {
     "name": "stderr",
     "output_type": "stream",
     "text": [
      "Epoch 51: 100%|##########| 21/21 [00:01<00:00, 12.14it/s]\n"
     ]
    },
    {
     "name": "stdout",
     "output_type": "stream",
     "text": [
      "Train Loss: 0.08821392768905276\n",
      "Val Loss: 0.04833398014307022\n"
     ]
    },
    {
     "name": "stderr",
     "output_type": "stream",
     "text": [
      "Epoch 52: 100%|##########| 21/21 [00:01<00:00, 12.02it/s]\n"
     ]
    },
    {
     "name": "stdout",
     "output_type": "stream",
     "text": [
      "Train Loss: 0.08379945921755973\n",
      "Val Loss: 0.0475483238697052\n"
     ]
    },
    {
     "name": "stderr",
     "output_type": "stream",
     "text": [
      "Epoch 53: 100%|##########| 21/21 [00:01<00:00, 12.22it/s]\n"
     ]
    },
    {
     "name": "stdout",
     "output_type": "stream",
     "text": [
      "Train Loss: 0.09029610313120343\n",
      "Val Loss: 0.03819480165839195\n"
     ]
    },
    {
     "name": "stderr",
     "output_type": "stream",
     "text": [
      "Epoch 54: 100%|##########| 21/21 [00:01<00:00, 12.04it/s]\n"
     ]
    },
    {
     "name": "stdout",
     "output_type": "stream",
     "text": [
      "Train Loss: 0.08763542052890573\n",
      "Val Loss: 0.042736250907182693\n"
     ]
    },
    {
     "name": "stderr",
     "output_type": "stream",
     "text": [
      "Epoch 55: 100%|##########| 21/21 [00:01<00:00, 11.95it/s]\n"
     ]
    },
    {
     "name": "stdout",
     "output_type": "stream",
     "text": [
      "Train Loss: 0.09558893828874543\n",
      "Val Loss: 0.03465989977121353\n"
     ]
    },
    {
     "name": "stderr",
     "output_type": "stream",
     "text": [
      "Epoch 56: 100%|##########| 21/21 [00:01<00:00, 12.18it/s]\n"
     ]
    },
    {
     "name": "stdout",
     "output_type": "stream",
     "text": [
      "Train Loss: 0.0924604737332889\n",
      "Val Loss: 0.04037776030600071\n"
     ]
    },
    {
     "name": "stderr",
     "output_type": "stream",
     "text": [
      "Epoch 57: 100%|##########| 21/21 [00:01<00:00, 12.04it/s]\n"
     ]
    },
    {
     "name": "stdout",
     "output_type": "stream",
     "text": [
      "Train Loss: 0.09042738786055929\n",
      "Val Loss: 0.03045868966728449\n"
     ]
    },
    {
     "name": "stderr",
     "output_type": "stream",
     "text": [
      "Epoch 58: 100%|##########| 21/21 [00:01<00:00, 11.98it/s]\n"
     ]
    },
    {
     "name": "stdout",
     "output_type": "stream",
     "text": [
      "Train Loss: 0.08021834545901843\n",
      "Val Loss: 0.032816496677696705\n"
     ]
    },
    {
     "name": "stderr",
     "output_type": "stream",
     "text": [
      "Epoch 59: 100%|##########| 21/21 [00:01<00:00, 12.22it/s]\n"
     ]
    },
    {
     "name": "stdout",
     "output_type": "stream",
     "text": [
      "Train Loss: 0.09213213870922725\n",
      "Val Loss: 0.050737494602799416\n"
     ]
    },
    {
     "name": "stderr",
     "output_type": "stream",
     "text": [
      "Epoch 60: 100%|##########| 21/21 [00:01<00:00, 12.20it/s]\n"
     ]
    },
    {
     "name": "stdout",
     "output_type": "stream",
     "text": [
      "Train Loss: 0.0908256389555477\n",
      "Val Loss: 0.04568174295127392\n"
     ]
    },
    {
     "name": "stderr",
     "output_type": "stream",
     "text": [
      "Epoch 61: 100%|##########| 21/21 [00:01<00:00, 11.75it/s]\n"
     ]
    },
    {
     "name": "stdout",
     "output_type": "stream",
     "text": [
      "Train Loss: 0.08580621456106503\n",
      "Val Loss: 0.028663252480328083\n"
     ]
    },
    {
     "name": "stderr",
     "output_type": "stream",
     "text": [
      "Epoch 62: 100%|##########| 21/21 [00:01<00:00, 12.22it/s]\n"
     ]
    },
    {
     "name": "stdout",
     "output_type": "stream",
     "text": [
      "Train Loss: 0.08363269783911251\n",
      "Val Loss: 0.043869564309716225\n"
     ]
    },
    {
     "name": "stderr",
     "output_type": "stream",
     "text": [
      "Epoch 63: 100%|##########| 21/21 [00:01<00:00, 12.22it/s]\n"
     ]
    },
    {
     "name": "stdout",
     "output_type": "stream",
     "text": [
      "Train Loss: 0.08521745761945135\n",
      "Val Loss: 0.03797532990574837\n"
     ]
    },
    {
     "name": "stderr",
     "output_type": "stream",
     "text": [
      "Epoch 64: 100%|##########| 21/21 [00:01<00:00, 12.18it/s]\n"
     ]
    },
    {
     "name": "stdout",
     "output_type": "stream",
     "text": [
      "Train Loss: 0.0848129347321533\n",
      "Val Loss: 0.04124022275209427\n"
     ]
    },
    {
     "name": "stderr",
     "output_type": "stream",
     "text": [
      "Epoch 65: 100%|##########| 21/21 [00:01<00:00, 12.21it/s]\n"
     ]
    },
    {
     "name": "stdout",
     "output_type": "stream",
     "text": [
      "Train Loss: 0.07713089599495843\n",
      "Val Loss: 0.03907205443829298\n"
     ]
    },
    {
     "name": "stderr",
     "output_type": "stream",
     "text": [
      "Epoch 66: 100%|##########| 21/21 [00:01<00:00, 12.22it/s]\n"
     ]
    },
    {
     "name": "stdout",
     "output_type": "stream",
     "text": [
      "Train Loss: 0.08446452908572696\n",
      "Val Loss: 0.032462398521602154\n"
     ]
    },
    {
     "name": "stderr",
     "output_type": "stream",
     "text": [
      "Epoch 67: 100%|##########| 21/21 [00:01<00:00, 12.22it/s]\n"
     ]
    },
    {
     "name": "stdout",
     "output_type": "stream",
     "text": [
      "Train Loss: 0.08323536706822258\n",
      "Val Loss: 0.06796462461352348\n"
     ]
    },
    {
     "name": "stderr",
     "output_type": "stream",
     "text": [
      "Epoch 68: 100%|##########| 21/21 [00:01<00:00, 12.22it/s]\n"
     ]
    },
    {
     "name": "stdout",
     "output_type": "stream",
     "text": [
      "Train Loss: 0.07808743541439374\n",
      "Val Loss: 0.03966363146901131\n"
     ]
    },
    {
     "name": "stderr",
     "output_type": "stream",
     "text": [
      "Epoch 69: 100%|##########| 21/21 [00:01<00:00, 12.22it/s]\n"
     ]
    },
    {
     "name": "stdout",
     "output_type": "stream",
     "text": [
      "Train Loss: 0.07452758774161339\n",
      "Val Loss: 0.0339006008580327\n"
     ]
    },
    {
     "name": "stderr",
     "output_type": "stream",
     "text": [
      "Epoch 70: 100%|##########| 21/21 [00:01<00:00, 12.21it/s]\n"
     ]
    },
    {
     "name": "stdout",
     "output_type": "stream",
     "text": [
      "Train Loss: 0.08220241201065835\n",
      "Val Loss: 0.02990793064236641\n"
     ]
    },
    {
     "name": "stderr",
     "output_type": "stream",
     "text": [
      "Epoch 71: 100%|##########| 21/21 [00:01<00:00, 12.22it/s]\n"
     ]
    },
    {
     "name": "stdout",
     "output_type": "stream",
     "text": [
      "Train Loss: 0.07853015565446445\n",
      "Val Loss: 0.035068195313215256\n"
     ]
    },
    {
     "name": "stderr",
     "output_type": "stream",
     "text": [
      "Epoch 72: 100%|##########| 21/21 [00:01<00:00, 12.21it/s]\n"
     ]
    },
    {
     "name": "stdout",
     "output_type": "stream",
     "text": [
      "Train Loss: 0.08155997558718636\n",
      "Val Loss: 0.04111690632998943\n"
     ]
    },
    {
     "name": "stderr",
     "output_type": "stream",
     "text": [
      "Epoch 73: 100%|##########| 21/21 [00:01<00:00, 12.21it/s]\n"
     ]
    },
    {
     "name": "stdout",
     "output_type": "stream",
     "text": [
      "Train Loss: 0.08299578424720537\n",
      "Val Loss: 0.04605662636458874\n"
     ]
    },
    {
     "name": "stderr",
     "output_type": "stream",
     "text": [
      "Epoch 74: 100%|##########| 21/21 [00:01<00:00, 12.21it/s]\n"
     ]
    },
    {
     "name": "stdout",
     "output_type": "stream",
     "text": [
      "Train Loss: 0.07749712325277783\n",
      "Val Loss: 0.046662638895213604\n"
     ]
    },
    {
     "name": "stderr",
     "output_type": "stream",
     "text": [
      "Epoch 75: 100%|##########| 21/21 [00:01<00:00, 12.21it/s]\n"
     ]
    },
    {
     "name": "stdout",
     "output_type": "stream",
     "text": [
      "Train Loss: 0.07850976678587142\n",
      "Val Loss: 0.032618300057947636\n"
     ]
    },
    {
     "name": "stderr",
     "output_type": "stream",
     "text": [
      "Epoch 76: 100%|##########| 21/21 [00:01<00:00, 12.21it/s]\n"
     ]
    },
    {
     "name": "stdout",
     "output_type": "stream",
     "text": [
      "Train Loss: 0.08158751115912483\n",
      "Val Loss: 0.032178510911762714\n"
     ]
    },
    {
     "name": "stderr",
     "output_type": "stream",
     "text": [
      "Epoch 77: 100%|##########| 21/21 [00:01<00:00, 12.22it/s]\n"
     ]
    },
    {
     "name": "stdout",
     "output_type": "stream",
     "text": [
      "Train Loss: 0.08463594583528382\n",
      "Val Loss: 0.04924665950238705\n"
     ]
    },
    {
     "name": "stderr",
     "output_type": "stream",
     "text": [
      "Epoch 78: 100%|##########| 21/21 [00:01<00:00, 12.21it/s]\n"
     ]
    },
    {
     "name": "stdout",
     "output_type": "stream",
     "text": [
      "Train Loss: 0.07300274606261935\n",
      "Val Loss: 0.05050275661051273\n"
     ]
    },
    {
     "name": "stderr",
     "output_type": "stream",
     "text": [
      "Epoch 79: 100%|##########| 21/21 [00:01<00:00, 11.29it/s]\n"
     ]
    },
    {
     "name": "stdout",
     "output_type": "stream",
     "text": [
      "Train Loss: 0.08271883481315204\n",
      "Val Loss: 0.03423132188618183\n"
     ]
    },
    {
     "name": "stderr",
     "output_type": "stream",
     "text": [
      "Epoch 80: 100%|##########| 21/21 [00:01<00:00, 12.21it/s]\n"
     ]
    },
    {
     "name": "stdout",
     "output_type": "stream",
     "text": [
      "Train Loss: 0.0710361096121016\n",
      "Val Loss: 0.032947659492492676\n"
     ]
    },
    {
     "name": "stderr",
     "output_type": "stream",
     "text": [
      "Epoch 81: 100%|##########| 21/21 [00:01<00:00, 12.21it/s]\n"
     ]
    },
    {
     "name": "stdout",
     "output_type": "stream",
     "text": [
      "Train Loss: 0.08847938797303609\n",
      "Val Loss: 0.03883324097841978\n"
     ]
    },
    {
     "name": "stderr",
     "output_type": "stream",
     "text": [
      "Epoch 82: 100%|##########| 21/21 [00:01<00:00, 12.21it/s]\n"
     ]
    },
    {
     "name": "stdout",
     "output_type": "stream",
     "text": [
      "Train Loss: 0.09246226808144933\n",
      "Val Loss: 0.04406813345849514\n"
     ]
    },
    {
     "name": "stderr",
     "output_type": "stream",
     "text": [
      "Epoch 83: 100%|##########| 21/21 [00:01<00:00, 12.21it/s]\n"
     ]
    },
    {
     "name": "stdout",
     "output_type": "stream",
     "text": [
      "Train Loss: 0.07889962746273904\n",
      "Val Loss: 0.041943665593862534\n"
     ]
    },
    {
     "name": "stderr",
     "output_type": "stream",
     "text": [
      "Epoch 84: 100%|##########| 21/21 [00:01<00:00, 12.21it/s]\n"
     ]
    },
    {
     "name": "stdout",
     "output_type": "stream",
     "text": [
      "Train Loss: 0.07951672818689119\n",
      "Val Loss: 0.02363857626914978\n"
     ]
    },
    {
     "name": "stderr",
     "output_type": "stream",
     "text": [
      "Epoch 85: 100%|##########| 21/21 [00:01<00:00, 12.15it/s]\n"
     ]
    },
    {
     "name": "stdout",
     "output_type": "stream",
     "text": [
      "Train Loss: 0.07686801503101985\n",
      "Val Loss: 0.03710097819566727\n"
     ]
    },
    {
     "name": "stderr",
     "output_type": "stream",
     "text": [
      "Epoch 86: 100%|##########| 21/21 [00:01<00:00, 12.21it/s]\n"
     ]
    },
    {
     "name": "stdout",
     "output_type": "stream",
     "text": [
      "Train Loss: 0.08094853499815577\n",
      "Val Loss: 0.031807705760002136\n"
     ]
    },
    {
     "name": "stderr",
     "output_type": "stream",
     "text": [
      "Epoch 87: 100%|##########| 21/21 [00:01<00:00, 11.82it/s]\n"
     ]
    },
    {
     "name": "stdout",
     "output_type": "stream",
     "text": [
      "Train Loss: 0.08223202966508411\n",
      "Val Loss: 0.030421508476138115\n"
     ]
    },
    {
     "name": "stderr",
     "output_type": "stream",
     "text": [
      "Epoch 88: 100%|##########| 21/21 [00:01<00:00, 12.21it/s]\n"
     ]
    },
    {
     "name": "stdout",
     "output_type": "stream",
     "text": [
      "Train Loss: 0.08665086559596516\n",
      "Val Loss: 0.037898244336247444\n"
     ]
    },
    {
     "name": "stderr",
     "output_type": "stream",
     "text": [
      "Epoch 89: 100%|##########| 21/21 [00:01<00:00, 12.21it/s]\n"
     ]
    },
    {
     "name": "stdout",
     "output_type": "stream",
     "text": [
      "Train Loss: 0.07989560653056417\n",
      "Val Loss: 0.06420941464602947\n"
     ]
    },
    {
     "name": "stderr",
     "output_type": "stream",
     "text": [
      "Epoch 90: 100%|##########| 21/21 [00:01<00:00, 11.81it/s]\n"
     ]
    },
    {
     "name": "stdout",
     "output_type": "stream",
     "text": [
      "Train Loss: 0.0826648079923221\n",
      "Val Loss: 0.036132967099547386\n"
     ]
    },
    {
     "name": "stderr",
     "output_type": "stream",
     "text": [
      "Epoch 91: 100%|##########| 21/21 [00:01<00:00, 12.13it/s]\n"
     ]
    },
    {
     "name": "stdout",
     "output_type": "stream",
     "text": [
      "Train Loss: 0.07816921600273677\n",
      "Val Loss: 0.03223793487995863\n"
     ]
    },
    {
     "name": "stderr",
     "output_type": "stream",
     "text": [
      "Epoch 92: 100%|##########| 21/21 [00:01<00:00, 12.21it/s]\n"
     ]
    },
    {
     "name": "stdout",
     "output_type": "stream",
     "text": [
      "Train Loss: 0.07369867339730263\n",
      "Val Loss: 0.024985427036881447\n"
     ]
    },
    {
     "name": "stderr",
     "output_type": "stream",
     "text": [
      "Epoch 93: 100%|##########| 21/21 [00:01<00:00, 11.85it/s]\n"
     ]
    },
    {
     "name": "stdout",
     "output_type": "stream",
     "text": [
      "Train Loss: 0.08724071546679452\n",
      "Val Loss: 0.04397860262542963\n"
     ]
    },
    {
     "name": "stderr",
     "output_type": "stream",
     "text": [
      "Epoch 94: 100%|##########| 21/21 [00:01<00:00, 12.19it/s]\n"
     ]
    },
    {
     "name": "stdout",
     "output_type": "stream",
     "text": [
      "Train Loss: 0.0668252914079598\n",
      "Val Loss: 0.0417826883494854\n"
     ]
    },
    {
     "name": "stderr",
     "output_type": "stream",
     "text": [
      "Epoch 95: 100%|##########| 21/21 [00:01<00:00, 12.22it/s]\n"
     ]
    },
    {
     "name": "stdout",
     "output_type": "stream",
     "text": [
      "Train Loss: 0.09073403229316075\n",
      "Val Loss: 0.03370597027242184\n"
     ]
    },
    {
     "name": "stderr",
     "output_type": "stream",
     "text": [
      "Epoch 96: 100%|##########| 21/21 [00:01<00:00, 12.09it/s]\n"
     ]
    },
    {
     "name": "stdout",
     "output_type": "stream",
     "text": [
      "Train Loss: 0.08154507336162385\n",
      "Val Loss: 0.03827837202697992\n"
     ]
    },
    {
     "name": "stderr",
     "output_type": "stream",
     "text": [
      "Epoch 97: 100%|##########| 21/21 [00:01<00:00, 11.81it/s]\n"
     ]
    },
    {
     "name": "stdout",
     "output_type": "stream",
     "text": [
      "Train Loss: 0.07285143807530403\n",
      "Val Loss: 0.048687984235584736\n"
     ]
    },
    {
     "name": "stderr",
     "output_type": "stream",
     "text": [
      "Epoch 98: 100%|##########| 21/21 [00:01<00:00, 12.21it/s]\n"
     ]
    },
    {
     "name": "stdout",
     "output_type": "stream",
     "text": [
      "Train Loss: 0.08085839574535687\n",
      "Val Loss: 0.027962270192801952\n"
     ]
    },
    {
     "name": "stderr",
     "output_type": "stream",
     "text": [
      "Epoch 99: 100%|##########| 21/21 [00:01<00:00, 12.21it/s]\n"
     ]
    },
    {
     "name": "stdout",
     "output_type": "stream",
     "text": [
      "Train Loss: 0.0721754693381843\n",
      "Val Loss: 0.04077369160950184\n",
      "End of training!\n"
     ]
    }
   ],
   "source": [
    "ddpm.train(epochs, optimizer, train_loader, val_loader)"
   ]
  },
  {
   "cell_type": "markdown",
   "id": "8cb90206-748b-4349-a23b-29deb871aac9",
   "metadata": {},
   "source": [
    "## Check overfitting"
   ]
  },
  {
   "cell_type": "code",
   "execution_count": 26,
   "id": "27cffcd9-2cb8-4bc4-82da-2fc8aa7e0ead",
   "metadata": {},
   "outputs": [
    {
     "name": "stdout",
     "output_type": "stream",
     "text": [
      "0 tensor(1.0000)\n",
      "10 tensor(0.9998)\n",
      "20 tensor(0.9995)\n",
      "30 tensor(0.9990)\n",
      "40 tensor(0.9982)\n",
      "50 tensor(0.9971)\n",
      "60 tensor(0.9956)\n",
      "70 tensor(0.9937)\n",
      "80 tensor(0.9914)\n",
      "90 tensor(0.9885)\n",
      "100 tensor(0.9851)\n",
      "110 tensor(0.9811)\n",
      "120 tensor(0.9764)\n",
      "130 tensor(0.9710)\n",
      "140 tensor(0.9650)\n",
      "150 tensor(0.9581)\n",
      "160 tensor(0.9505)\n",
      "170 tensor(0.9420)\n",
      "180 tensor(0.9327)\n",
      "190 tensor(0.9225)\n",
      "200 tensor(0.9114)\n",
      "210 tensor(0.8994)\n",
      "220 tensor(0.8865)\n",
      "230 tensor(0.8726)\n",
      "240 tensor(0.8579)\n",
      "250 tensor(0.8423)\n",
      "260 tensor(0.8258)\n",
      "270 tensor(0.8084)\n",
      "280 tensor(0.7902)\n",
      "290 tensor(0.7712)\n",
      "300 tensor(0.7514)\n",
      "310 tensor(0.7309)\n",
      "320 tensor(0.7097)\n",
      "330 tensor(0.6880)\n",
      "340 tensor(0.6656)\n",
      "350 tensor(0.6428)\n",
      "360 tensor(0.6196)\n",
      "370 tensor(0.5960)\n",
      "380 tensor(0.5721)\n",
      "390 tensor(0.5480)\n",
      "400 tensor(0.5238)\n",
      "410 tensor(0.4996)\n",
      "420 tensor(0.4755)\n",
      "430 tensor(0.4514)\n",
      "440 tensor(0.4276)\n",
      "450 tensor(0.4040)\n",
      "460 tensor(0.3808)\n",
      "470 tensor(0.3580)\n",
      "480 tensor(0.3357)\n",
      "490 tensor(0.3140)\n",
      "500 tensor(0.2929)\n",
      "510 tensor(0.2725)\n",
      "520 tensor(0.2527)\n",
      "530 tensor(0.2338)\n",
      "540 tensor(0.2156)\n",
      "550 tensor(0.1983)\n",
      "560 tensor(0.1818)\n",
      "570 tensor(0.1662)\n",
      "580 tensor(0.1514)\n",
      "590 tensor(0.1375)\n",
      "0 tensor(1.0000)\n",
      "10 tensor(0.9998)\n",
      "20 tensor(0.9995)\n",
      "30 tensor(0.9990)\n",
      "40 tensor(0.9982)\n",
      "50 tensor(0.9971)\n",
      "60 tensor(0.9956)\n",
      "70 tensor(0.9937)\n",
      "80 tensor(0.9914)\n",
      "90 tensor(0.9885)\n",
      "100 tensor(0.9851)\n",
      "110 tensor(0.9811)\n",
      "120 tensor(0.9764)\n",
      "130 tensor(0.9710)\n",
      "140 tensor(0.9650)\n",
      "150 tensor(0.9581)\n",
      "160 tensor(0.9505)\n",
      "170 tensor(0.9420)\n",
      "180 tensor(0.9327)\n",
      "190 tensor(0.9225)\n",
      "200 tensor(0.9114)\n",
      "210 tensor(0.8994)\n",
      "220 tensor(0.8865)\n",
      "230 tensor(0.8726)\n",
      "240 tensor(0.8579)\n",
      "250 tensor(0.8423)\n",
      "260 tensor(0.8258)\n",
      "270 tensor(0.8084)\n",
      "280 tensor(0.7902)\n",
      "290 tensor(0.7712)\n",
      "300 tensor(0.7514)\n",
      "310 tensor(0.7309)\n",
      "320 tensor(0.7097)\n",
      "330 tensor(0.6880)\n",
      "340 tensor(0.6656)\n",
      "350 tensor(0.6428)\n",
      "360 tensor(0.6196)\n",
      "370 tensor(0.5960)\n",
      "380 tensor(0.5721)\n",
      "390 tensor(0.5480)\n",
      "400 tensor(0.5238)\n",
      "410 tensor(0.4996)\n",
      "420 tensor(0.4755)\n",
      "430 tensor(0.4514)\n",
      "440 tensor(0.4276)\n",
      "450 tensor(0.4040)\n",
      "460 tensor(0.3808)\n",
      "470 tensor(0.3580)\n",
      "480 tensor(0.3357)\n",
      "490 tensor(0.3140)\n",
      "500 tensor(0.2929)\n",
      "510 tensor(0.2725)\n",
      "520 tensor(0.2527)\n",
      "530 tensor(0.2338)\n",
      "540 tensor(0.2156)\n",
      "550 tensor(0.1983)\n",
      "560 tensor(0.1818)\n",
      "570 tensor(0.1662)\n",
      "580 tensor(0.1514)\n",
      "590 tensor(0.1375)\n"
     ]
    }
   ],
   "source": [
    "psnr_in_train, psnr_out_train = ddpm.compute_psnr(train_loader)\n",
    "psnr_in_val, psnr_out_val = ddpm.compute_psnr(val_loader)"
   ]
  },
  {
   "cell_type": "code",
   "execution_count": 27,
   "id": "433a0de1-5619-47a4-90fd-7a9203556d9d",
   "metadata": {},
   "outputs": [],
   "source": [
    "import numpy as np\n",
    "psnr_in_train_array = np.array([x.numpy() for x in psnr_in_train])\n",
    "psnr_out_train_array = np.array([x.numpy() for x in psnr_out_train])\n",
    "\n",
    "psnr_in_val_array = np.array([x.numpy() for x in psnr_in_val])\n",
    "psnr_out_val_array = np.array([x.numpy() for x in psnr_out_val])"
   ]
  },
  {
   "cell_type": "code",
   "execution_count": 34,
   "id": "34a6efd4-b53b-43e8-a93b-7da54635a0c1",
   "metadata": {},
   "outputs": [
    {
     "data": {
      "image/png": "[encoded data removed]",
      "text/plain": [
       "<Figure size 640x480 with 1 Axes>"
      ]
     },
     "metadata": {},
     "output_type": "display_data"
    }
   ],
   "source": [
    "import matplotlib.pyplot as plt\n",
    "plt.plot(psnr_in_train_array, psnr_out_train_array, marker='o')\n",
    "plt.plot(psnr_in_train_array, psnr_in_train_array, linestyle='--', c='k')\n",
    "plt.plot(psnr_in_val_array, psnr_out_val_array, marker='o')\n",
    "plt.show()"
   ]
  },
  {
   "cell_type": "code",
   "execution_count": null,
   "id": "e0783e8b-4a54-42fc-bbb4-1dc315680242",
   "metadata": {},
   "outputs": [],
   "source": []
  },
  {
   "cell_type": "code",
   "execution_count": null,
   "id": "4ed3dce8-c21f-46b9-8a4f-f51c9dd2cb74",
   "metadata": {},
   "outputs": [],
   "source": []
  },
  {
   "cell_type": "code",
   "execution_count": null,
   "id": "aceaecd9-ae81-42fb-956d-217629f3f926",
   "metadata": {},
   "outputs": [],
   "source": [
    "import matplotlib.pyplot as plt\n",
    "\n",
    "def plot_psnr(psnr_list,psnr_list_test):\n",
    "\n",
    "    fig , axs = plt.subplots(1,2 , figsize= (12,5), sharey = True)\n",
    "    axs[0].plot( range(len(psnr_list)), psnr_list, 'orange','-o', label = 'train')\n",
    "    axs[0].set_ylabel('PSNR')\n",
    "    #axs[0].set_title('max train psnr ' + str(round(max(psnr_list),3)) + ' from epoch ' + str(psnr_list.index(max(psnr_list))) + '\\n final psnr '+str(round(psnr_list[-1],3)))\n",
    "    axs[0].legend()\n",
    "    axs[1].plot( range(len(psnr_list_test)), psnr_list_test, 'green','-o', label = 'test')\n",
    "    #axs[1].set_title('max test psnr ' + str(round(max(psnr_list_test),3)) + ' from epoch ' + str(psnr_list_test.index(max(psnr_list_test))) + '\\n final psnr '+str(round(psnr_list_test[-1],3)))\n",
    "    axs[1].legend()    \n",
    "    #plt.savefig(file_name)"
   ]
  },
  {
   "cell_type": "code",
   "execution_count": null,
   "id": "b6f03510-cc7b-4b44-b8e5-6bf583f6fc31",
   "metadata": {},
   "outputs": [],
   "source": []
  },
  {
   "cell_type": "code",
   "execution_count": null,
   "id": "f5df7e55-414d-470e-8471-3e0dbda344ba",
   "metadata": {},
   "outputs": [],
   "source": [
    "psnr_train"
   ]
  },
  {
   "cell_type": "code",
   "execution_count": null,
   "id": "546e60cb-a16d-40b1-8fbc-80f04c766b3e",
   "metadata": {},
   "outputs": [],
   "source": [
    "plot_psnr(psnr_train, psnr_val)"
   ]
  },
  {
   "cell_type": "code",
   "execution_count": null,
   "id": "fec6c681-230b-4b06-b62f-87ae8e2cb95d",
   "metadata": {},
   "outputs": [],
   "source": []
  },
  {
   "cell_type": "code",
   "execution_count": null,
   "id": "1b740802-d679-4504-a28a-79a581b2d50d",
   "metadata": {},
   "outputs": [],
   "source": []
  },
  {
   "cell_type": "code",
   "execution_count": null,
   "id": "ede2d12e-d175-4361-8dea-94ac9201b0bc",
   "metadata": {},
   "outputs": [],
   "source": []
  },
  {
   "cell_type": "markdown",
   "id": "df0b2877-c07a-4a8b-b278-6c3f588307c9",
   "metadata": {},
   "source": [
    "## Sample"
   ]
  },
  {
   "cell_type": "code",
   "execution_count": null,
   "id": "d26eb458-cffa-42b7-9aac-c7b7593ae9a7",
   "metadata": {},
   "outputs": [],
   "source": [
    "from diffusion.sampler import sample\n",
    "import matplotlib.pyplot as plt\n",
    "\n",
    "# sample 64 images\n",
    "samples = sample(ddpm, image_size=image_size, batch_size=64, channels=channels)\n",
    "\n",
    "# show a random one\n",
    "random_indexes = [5, 10, 15, 20, 25, 30, 35, 40, 45, 50]\n",
    "\n",
    "fig, axs = plt.subplots(1, 10, figsize=(20, 8))\n",
    "for i in range(10):\n",
    "    idx = random_indexes[i]\n",
    "    axs[i].get_xaxis().set_visible(False)\n",
    "    axs[i].get_yaxis().set_visible(False)\n",
    "    axs[i].set_title(f\"Image {idx}\")\n",
    "    axs[i].imshow(samples[-1][idx].reshape(image_size, image_size, channels), cmap=\"gray\")\n",
    "plt.show()"
   ]
  },
  {
   "cell_type": "code",
   "execution_count": null,
   "id": "22d15a54-dc85-43d8-997c-e179847300c5",
   "metadata": {},
   "outputs": [],
   "source": [
    "import matplotlib.animation as animation\n",
    "\n",
    "random_index = 5\n",
    "\n",
    "fig = plt.figure()\n",
    "ims = []\n",
    "for i in range(timesteps):\n",
    "    plt.title(f\"T = {i}\")\n",
    "    im = plt.imshow(samples[i][random_index].reshape(image_size, image_size, channels), cmap=\"gray\", animated=True)\n",
    "    ims.append([im])\n",
    "\n",
    "animate = animation.ArtistAnimation(fig, ims, interval=50, blit=True, repeat_delay=1000)\n",
    "animate.save('diffusion64x64.gif')\n",
    "plt.show()"
   ]
  },
  {
   "cell_type": "code",
   "execution_count": null,
   "id": "b94e8401-0dff-4cdb-a06c-03dd9742ccab",
   "metadata": {},
   "outputs": [],
   "source": []
  },
  {
   "cell_type": "code",
   "execution_count": null,
   "id": "21290d8f-98a5-4cca-a066-b8c6bdf446f1",
   "metadata": {},
   "outputs": [],
   "source": []
  }
 ],
 "metadata": {
  "kernelspec": {
   "display_name": "pytorch-gpu-2.3.0_py3.11.5",
   "language": "python",
   "name": "module-conda-env-pytorch-gpu-2.3.0_py3.11.5"
  },
  "language_info": {
   "file_extension": ".py",
   "mimetype": "text/x-python",
   "name": "python",
   "version": "3.11.7"
  }
 },
 "nbformat": 4,
 "nbformat_minor": 5
}
